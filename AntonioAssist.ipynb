{
  "nbformat": 4,
  "nbformat_minor": 0,
  "metadata": {
    "colab": {
      "provenance": [],
      "authorship_tag": "ABX9TyMzZ20poWQZ8phtsP3KcwRs",
      "include_colab_link": true
    },
    "kernelspec": {
      "name": "python3",
      "display_name": "Python 3"
    },
    "language_info": {
      "name": "python"
    }
  },
  "cells": [
    {
      "cell_type": "markdown",
      "metadata": {
        "id": "view-in-github",
        "colab_type": "text"
      },
      "source": [
        "<a href=\"https://colab.research.google.com/github/angeles-vinicius/AntonioAssist_ChatBot/blob/main/AntonioAssist.ipynb\" target=\"_parent\"><img src=\"https://colab.research.google.com/assets/colab-badge.svg\" alt=\"Open In Colab\"/></a>"
      ]
    },
    {
      "cell_type": "markdown",
      "source": [
        "\"\"\"\n",
        "**AntonioAssist**🤖\n",
        "- Chatbot para o Condomínio Antonio **Machado**\n",
        "\n",
        "Este script implementa um chatbot chamado AntonioAssist, projetado para auxiliar moradores do meu condomínio, especialmente idosos,\n",
        "a se conectarem com a comunidade e acessarem informações importantes.\n",
        "\n",
        "Funcionalidades:\n",
        "\n",
        "* Fornece informações sobre o condomínio: regras, horários, contatos, etc.\n",
        "* Busca notícias relevantes (usando a API Gnews).\n",
        "* Oferece previsão do tempo para qualquer cidade (usando a API OpenWeatherMap).\n",
        "* Integração com um grupo de WhatsApp (implementação futura).\n",
        "\n",
        "Objetivo:\n",
        "\n",
        "Criar um ponto de auxílio e encontro virtual para os moradores, promovendo inclusão digital, interação social e bem-estar.\n",
        "\n",
        "Baseado nos objetivos de desenvolvimento sustentável (ODS) da ONU ao qual reflete os objetivos desse chat para desenvolver o projeto.\n",
        "\n",
        "Autor:\n",
        "Angeles\n",
        "\n",
        "Data:\n",
        "Recife, 11 de maio de 2024.\n",
        "\"\"\"\n"
      ],
      "metadata": {
        "id": "BHSY2Oav-Q7X"
      }
    },
    {
      "cell_type": "code",
      "execution_count": 62,
      "metadata": {
        "colab": {
          "base_uri": "https://localhost:8080/",
          "height": 468
        },
        "id": "tcPloMoxLSWW",
        "outputId": "645df00c-02b9-4a25-d015-76e9b36b939e"
      },
      "outputs": [
        {
          "output_type": "display_data",
          "data": {
            "text/plain": [
              "<IPython.core.display.HTML object>"
            ],
            "text/html": [
              "\n",
              "  <style>\n",
              "    pre {\n",
              "        white-space: pre-wrap;\n",
              "    }\n",
              "  </style>\n",
              "  "
            ]
          },
          "metadata": {}
        },
        {
          "output_type": "display_data",
          "data": {
            "text/plain": [
              "<IPython.core.display.HTML object>"
            ],
            "text/html": [
              "\n",
              "  <style>\n",
              "    pre {\n",
              "        white-space: pre-wrap;\n",
              "    }\n",
              "  </style>\n",
              "  "
            ]
          },
          "metadata": {}
        },
        {
          "output_type": "display_data",
          "data": {
            "text/plain": [
              "<IPython.core.display.HTML object>"
            ],
            "text/html": [
              "\n",
              "  <style>\n",
              "    pre {\n",
              "        white-space: pre-wrap;\n",
              "    }\n",
              "  </style>\n",
              "  "
            ]
          },
          "metadata": {}
        },
        {
          "output_type": "display_data",
          "data": {
            "text/plain": [
              "<IPython.core.display.HTML object>"
            ],
            "text/html": [
              "\n",
              "  <style>\n",
              "    pre {\n",
              "        white-space: pre-wrap;\n",
              "    }\n",
              "  </style>\n",
              "  "
            ]
          },
          "metadata": {}
        },
        {
          "output_type": "stream",
          "name": "stdout",
          "text": [
            "Requirement already satisfied: google-cloud-language in /usr/local/lib/python3.10/dist-packages (2.13.3)\n",
            "Requirement already satisfied: google-api-core[grpc]!=2.0.*,!=2.1.*,!=2.10.*,!=2.2.*,!=2.3.*,!=2.4.*,!=2.5.*,!=2.6.*,!=2.7.*,!=2.8.*,!=2.9.*,<3.0.0dev,>=1.34.1 in /usr/local/lib/python3.10/dist-packages (from google-cloud-language) (2.11.1)\n",
            "Requirement already satisfied: google-auth!=2.24.0,!=2.25.0,<3.0.0dev,>=2.14.1 in /usr/local/lib/python3.10/dist-packages (from google-cloud-language) (2.27.0)\n",
            "Requirement already satisfied: proto-plus<2.0.0dev,>=1.22.3 in /usr/local/lib/python3.10/dist-packages (from google-cloud-language) (1.23.0)\n",
            "Requirement already satisfied: protobuf!=3.20.0,!=3.20.1,!=4.21.0,!=4.21.1,!=4.21.2,!=4.21.3,!=4.21.4,!=4.21.5,<5.0.0dev,>=3.19.5 in /usr/local/lib/python3.10/dist-packages (from google-cloud-language) (3.20.3)\n",
            "Requirement already satisfied: googleapis-common-protos<2.0.dev0,>=1.56.2 in /usr/local/lib/python3.10/dist-packages (from google-api-core[grpc]!=2.0.*,!=2.1.*,!=2.10.*,!=2.2.*,!=2.3.*,!=2.4.*,!=2.5.*,!=2.6.*,!=2.7.*,!=2.8.*,!=2.9.*,<3.0.0dev,>=1.34.1->google-cloud-language) (1.63.0)\n",
            "Requirement already satisfied: requests<3.0.0.dev0,>=2.18.0 in /usr/local/lib/python3.10/dist-packages (from google-api-core[grpc]!=2.0.*,!=2.1.*,!=2.10.*,!=2.2.*,!=2.3.*,!=2.4.*,!=2.5.*,!=2.6.*,!=2.7.*,!=2.8.*,!=2.9.*,<3.0.0dev,>=1.34.1->google-cloud-language) (2.31.0)\n",
            "Requirement already satisfied: grpcio<2.0dev,>=1.33.2 in /usr/local/lib/python3.10/dist-packages (from google-api-core[grpc]!=2.0.*,!=2.1.*,!=2.10.*,!=2.2.*,!=2.3.*,!=2.4.*,!=2.5.*,!=2.6.*,!=2.7.*,!=2.8.*,!=2.9.*,<3.0.0dev,>=1.34.1->google-cloud-language) (1.63.0)\n",
            "Requirement already satisfied: grpcio-status<2.0.dev0,>=1.33.2 in /usr/local/lib/python3.10/dist-packages (from google-api-core[grpc]!=2.0.*,!=2.1.*,!=2.10.*,!=2.2.*,!=2.3.*,!=2.4.*,!=2.5.*,!=2.6.*,!=2.7.*,!=2.8.*,!=2.9.*,<3.0.0dev,>=1.34.1->google-cloud-language) (1.48.2)\n",
            "Requirement already satisfied: cachetools<6.0,>=2.0.0 in /usr/local/lib/python3.10/dist-packages (from google-auth!=2.24.0,!=2.25.0,<3.0.0dev,>=2.14.1->google-cloud-language) (5.3.3)\n",
            "Requirement already satisfied: pyasn1-modules>=0.2.1 in /usr/local/lib/python3.10/dist-packages (from google-auth!=2.24.0,!=2.25.0,<3.0.0dev,>=2.14.1->google-cloud-language) (0.4.0)\n",
            "Requirement already satisfied: rsa<5,>=3.1.4 in /usr/local/lib/python3.10/dist-packages (from google-auth!=2.24.0,!=2.25.0,<3.0.0dev,>=2.14.1->google-cloud-language) (4.9)\n",
            "Requirement already satisfied: pyasn1<0.7.0,>=0.4.6 in /usr/local/lib/python3.10/dist-packages (from pyasn1-modules>=0.2.1->google-auth!=2.24.0,!=2.25.0,<3.0.0dev,>=2.14.1->google-cloud-language) (0.6.0)\n",
            "Requirement already satisfied: charset-normalizer<4,>=2 in /usr/local/lib/python3.10/dist-packages (from requests<3.0.0.dev0,>=2.18.0->google-api-core[grpc]!=2.0.*,!=2.1.*,!=2.10.*,!=2.2.*,!=2.3.*,!=2.4.*,!=2.5.*,!=2.6.*,!=2.7.*,!=2.8.*,!=2.9.*,<3.0.0dev,>=1.34.1->google-cloud-language) (3.3.2)\n",
            "Requirement already satisfied: idna<4,>=2.5 in /usr/local/lib/python3.10/dist-packages (from requests<3.0.0.dev0,>=2.18.0->google-api-core[grpc]!=2.0.*,!=2.1.*,!=2.10.*,!=2.2.*,!=2.3.*,!=2.4.*,!=2.5.*,!=2.6.*,!=2.7.*,!=2.8.*,!=2.9.*,<3.0.0dev,>=1.34.1->google-cloud-language) (3.7)\n",
            "Requirement already satisfied: urllib3<3,>=1.21.1 in /usr/local/lib/python3.10/dist-packages (from requests<3.0.0.dev0,>=2.18.0->google-api-core[grpc]!=2.0.*,!=2.1.*,!=2.10.*,!=2.2.*,!=2.3.*,!=2.4.*,!=2.5.*,!=2.6.*,!=2.7.*,!=2.8.*,!=2.9.*,<3.0.0dev,>=1.34.1->google-cloud-language) (2.0.7)\n",
            "Requirement already satisfied: certifi>=2017.4.17 in /usr/local/lib/python3.10/dist-packages (from requests<3.0.0.dev0,>=2.18.0->google-api-core[grpc]!=2.0.*,!=2.1.*,!=2.10.*,!=2.2.*,!=2.3.*,!=2.4.*,!=2.5.*,!=2.6.*,!=2.7.*,!=2.8.*,!=2.9.*,<3.0.0dev,>=1.34.1->google-cloud-language) (2024.2.2)\n"
          ]
        }
      ],
      "source": [
        "# Instala a biblioteca google-generativeai na versão mais recente e de forma silenciosa\n",
        "!pip install -U -q google-generativeai\n",
        "#Instala a implementação da capacidade de entender emoções dos moradores do codomínio através da API do Google Cloud Natural Language\n",
        "!pip install --upgrade google-cloud-language"
      ]
    },
    {
      "cell_type": "code",
      "source": [
        "# Importações necessarias pro inicio do projeto\n",
        "\n",
        "import numpy as np # Biblioteca para operações numéricas\n",
        "import pandas as pd # Biblioteca para manipulação de dados\n",
        "import google.generativeai as genai # Biblioteca para usar a API do Google Generative AI (Gemini)\n",
        "import requests # Biblioteca para fazer requisições HTTP (para as APIs externas)\n",
        "from bs4 import BeautifulSoup # Biblioteca para extrair dados de HTML (para a API de notícias, se necessário)\n",
        "import re # Biblioteca para expressões regulares (para limpar o texto, se necessário)\n",
        "from IPython.display import HTML, display # Para formatação da saída no Google Colab\n",
        "from google.colab import userdata"
      ],
      "metadata": {
        "colab": {
          "base_uri": "https://localhost:8080/",
          "height": 17
        },
        "id": "ZuSQmjScL_MC",
        "outputId": "9ab185cb-a68d-4218-be9e-b397157ec9fa"
      },
      "execution_count": 128,
      "outputs": [
        {
          "output_type": "display_data",
          "data": {
            "text/plain": [
              "<IPython.core.display.HTML object>"
            ],
            "text/html": [
              "\n",
              "  <style>\n",
              "    pre {\n",
              "        white-space: pre-wrap;\n",
              "    }\n",
              "  </style>\n",
              "  "
            ]
          },
          "metadata": {}
        },
        {
          "output_type": "display_data",
          "data": {
            "text/plain": [
              "<IPython.core.display.HTML object>"
            ],
            "text/html": [
              "\n",
              "  <style>\n",
              "    pre {\n",
              "        white-space: pre-wrap;\n",
              "    }\n",
              "  </style>\n",
              "  "
            ]
          },
          "metadata": {}
        },
        {
          "output_type": "display_data",
          "data": {
            "text/plain": [
              "<IPython.core.display.HTML object>"
            ],
            "text/html": [
              "\n",
              "  <style>\n",
              "    pre {\n",
              "        white-space: pre-wrap;\n",
              "    }\n",
              "  </style>\n",
              "  "
            ]
          },
          "metadata": {}
        },
        {
          "output_type": "display_data",
          "data": {
            "text/plain": [
              "<IPython.core.display.HTML object>"
            ],
            "text/html": [
              "\n",
              "  <style>\n",
              "    pre {\n",
              "        white-space: pre-wrap;\n",
              "    }\n",
              "  </style>\n",
              "  "
            ]
          },
          "metadata": {}
        },
        {
          "output_type": "display_data",
          "data": {
            "text/plain": [
              "<IPython.core.display.HTML object>"
            ],
            "text/html": [
              "\n",
              "  <style>\n",
              "    pre {\n",
              "        white-space: pre-wrap;\n",
              "    }\n",
              "  </style>\n",
              "  "
            ]
          },
          "metadata": {}
        }
      ]
    },
    {
      "cell_type": "code",
      "source": [
        "# Melhora a visualização na saída, para incluir quebra de linha na visualização do chatbot.\n",
        "def set_css():\n",
        "  display(HTML('''\n",
        "  <style>\n",
        "    pre {\n",
        "        white-space: pre-wrap;\n",
        "    }\n",
        "  </style>\n",
        "  '''))\n",
        "get_ipython().events.register('pre_run_cell', set_css)"
      ],
      "metadata": {
        "colab": {
          "base_uri": "https://localhost:8080/",
          "height": 17
        },
        "id": "PT0_7ZeUMS4c",
        "outputId": "fd64fc62-fcbf-4429-d952-733573e08597"
      },
      "execution_count": 129,
      "outputs": [
        {
          "output_type": "display_data",
          "data": {
            "text/plain": [
              "<IPython.core.display.HTML object>"
            ],
            "text/html": [
              "\n",
              "  <style>\n",
              "    pre {\n",
              "        white-space: pre-wrap;\n",
              "    }\n",
              "  </style>\n",
              "  "
            ]
          },
          "metadata": {}
        },
        {
          "output_type": "display_data",
          "data": {
            "text/plain": [
              "<IPython.core.display.HTML object>"
            ],
            "text/html": [
              "\n",
              "  <style>\n",
              "    pre {\n",
              "        white-space: pre-wrap;\n",
              "    }\n",
              "  </style>\n",
              "  "
            ]
          },
          "metadata": {}
        },
        {
          "output_type": "display_data",
          "data": {
            "text/plain": [
              "<IPython.core.display.HTML object>"
            ],
            "text/html": [
              "\n",
              "  <style>\n",
              "    pre {\n",
              "        white-space: pre-wrap;\n",
              "    }\n",
              "  </style>\n",
              "  "
            ]
          },
          "metadata": {}
        },
        {
          "output_type": "display_data",
          "data": {
            "text/plain": [
              "<IPython.core.display.HTML object>"
            ],
            "text/html": [
              "\n",
              "  <style>\n",
              "    pre {\n",
              "        white-space: pre-wrap;\n",
              "    }\n",
              "  </style>\n",
              "  "
            ]
          },
          "metadata": {}
        },
        {
          "output_type": "display_data",
          "data": {
            "text/plain": [
              "<IPython.core.display.HTML object>"
            ],
            "text/html": [
              "\n",
              "  <style>\n",
              "    pre {\n",
              "        white-space: pre-wrap;\n",
              "    }\n",
              "  </style>\n",
              "  "
            ]
          },
          "metadata": {}
        }
      ]
    },
    {
      "cell_type": "code",
      "source": [
        "# Necessario usar sua API Key real\n",
        "api_key = userdata.get(\"SECRET_KEY\")\n",
        "genai.configure(api_key=api_key)\n",
        "# API Keys para NewsAPI e OpenWeatherMap\n",
        "NEWS_API_KEY = userdata.get('NEWS_API_KEY')\n",
        "OPENWEATHERMAP_API_KEY = userdata.get('OPENWEATHERMAP_API_KEY')"
      ],
      "metadata": {
        "colab": {
          "base_uri": "https://localhost:8080/",
          "height": 17
        },
        "id": "ZNVqB-uZMYiW",
        "outputId": "99facb95-c0b5-4999-9099-b8f5a61d12ed"
      },
      "execution_count": 130,
      "outputs": [
        {
          "output_type": "display_data",
          "data": {
            "text/plain": [
              "<IPython.core.display.HTML object>"
            ],
            "text/html": [
              "\n",
              "  <style>\n",
              "    pre {\n",
              "        white-space: pre-wrap;\n",
              "    }\n",
              "  </style>\n",
              "  "
            ]
          },
          "metadata": {}
        },
        {
          "output_type": "display_data",
          "data": {
            "text/plain": [
              "<IPython.core.display.HTML object>"
            ],
            "text/html": [
              "\n",
              "  <style>\n",
              "    pre {\n",
              "        white-space: pre-wrap;\n",
              "    }\n",
              "  </style>\n",
              "  "
            ]
          },
          "metadata": {}
        },
        {
          "output_type": "display_data",
          "data": {
            "text/plain": [
              "<IPython.core.display.HTML object>"
            ],
            "text/html": [
              "\n",
              "  <style>\n",
              "    pre {\n",
              "        white-space: pre-wrap;\n",
              "    }\n",
              "  </style>\n",
              "  "
            ]
          },
          "metadata": {}
        },
        {
          "output_type": "display_data",
          "data": {
            "text/plain": [
              "<IPython.core.display.HTML object>"
            ],
            "text/html": [
              "\n",
              "  <style>\n",
              "    pre {\n",
              "        white-space: pre-wrap;\n",
              "    }\n",
              "  </style>\n",
              "  "
            ]
          },
          "metadata": {}
        },
        {
          "output_type": "display_data",
          "data": {
            "text/plain": [
              "<IPython.core.display.HTML object>"
            ],
            "text/html": [
              "\n",
              "  <style>\n",
              "    pre {\n",
              "        white-space: pre-wrap;\n",
              "    }\n",
              "  </style>\n",
              "  "
            ]
          },
          "metadata": {}
        },
        {
          "output_type": "display_data",
          "data": {
            "text/plain": [
              "<IPython.core.display.HTML object>"
            ],
            "text/html": [
              "\n",
              "  <style>\n",
              "    pre {\n",
              "        white-space: pre-wrap;\n",
              "    }\n",
              "  </style>\n",
              "  "
            ]
          },
          "metadata": {}
        }
      ]
    },
    {
      "cell_type": "code",
      "source": [
        "# Necessário escolher os modelos Gemini para embedding e geração de texto.\n",
        "model_embedding_str = \"models/embedding-001\"\n",
        "model_generative_str = \"gemini-1.0-pro\""
      ],
      "metadata": {
        "colab": {
          "base_uri": "https://localhost:8080/",
          "height": 17
        },
        "id": "y-N1yEjuMrBs",
        "outputId": "b4d02823-52be-41cd-f992-773a77abb4d8"
      },
      "execution_count": 131,
      "outputs": [
        {
          "output_type": "display_data",
          "data": {
            "text/plain": [
              "<IPython.core.display.HTML object>"
            ],
            "text/html": [
              "\n",
              "  <style>\n",
              "    pre {\n",
              "        white-space: pre-wrap;\n",
              "    }\n",
              "  </style>\n",
              "  "
            ]
          },
          "metadata": {}
        },
        {
          "output_type": "display_data",
          "data": {
            "text/plain": [
              "<IPython.core.display.HTML object>"
            ],
            "text/html": [
              "\n",
              "  <style>\n",
              "    pre {\n",
              "        white-space: pre-wrap;\n",
              "    }\n",
              "  </style>\n",
              "  "
            ]
          },
          "metadata": {}
        },
        {
          "output_type": "display_data",
          "data": {
            "text/plain": [
              "<IPython.core.display.HTML object>"
            ],
            "text/html": [
              "\n",
              "  <style>\n",
              "    pre {\n",
              "        white-space: pre-wrap;\n",
              "    }\n",
              "  </style>\n",
              "  "
            ]
          },
          "metadata": {}
        },
        {
          "output_type": "display_data",
          "data": {
            "text/plain": [
              "<IPython.core.display.HTML object>"
            ],
            "text/html": [
              "\n",
              "  <style>\n",
              "    pre {\n",
              "        white-space: pre-wrap;\n",
              "    }\n",
              "  </style>\n",
              "  "
            ]
          },
          "metadata": {}
        },
        {
          "output_type": "display_data",
          "data": {
            "text/plain": [
              "<IPython.core.display.HTML object>"
            ],
            "text/html": [
              "\n",
              "  <style>\n",
              "    pre {\n",
              "        white-space: pre-wrap;\n",
              "    }\n",
              "  </style>\n",
              "  "
            ]
          },
          "metadata": {}
        },
        {
          "output_type": "display_data",
          "data": {
            "text/plain": [
              "<IPython.core.display.HTML object>"
            ],
            "text/html": [
              "\n",
              "  <style>\n",
              "    pre {\n",
              "        white-space: pre-wrap;\n",
              "    }\n",
              "  </style>\n",
              "  "
            ]
          },
          "metadata": {}
        }
      ]
    },
    {
      "cell_type": "code",
      "source": [
        "# Configurações para geração de texto. Como o público alvo são os idoso, mensagens simples e clara se adapta melhor todos eles.\n",
        "generation_config = {\n",
        "  \"temperature\": 0.4,  # Controla a criatividade da resposta (0 = mais determinista, 1 = mais criativo)\n",
        "  \"candidate_count\": 1 # Número de respostas candidatas a serem geradas\n",
        "}"
      ],
      "metadata": {
        "colab": {
          "base_uri": "https://localhost:8080/",
          "height": 17
        },
        "id": "v3EJymTQMwV5",
        "outputId": "5b9b818b-3b78-4b92-e784-f55babcebd3b"
      },
      "execution_count": 132,
      "outputs": [
        {
          "output_type": "display_data",
          "data": {
            "text/plain": [
              "<IPython.core.display.HTML object>"
            ],
            "text/html": [
              "\n",
              "  <style>\n",
              "    pre {\n",
              "        white-space: pre-wrap;\n",
              "    }\n",
              "  </style>\n",
              "  "
            ]
          },
          "metadata": {}
        },
        {
          "output_type": "display_data",
          "data": {
            "text/plain": [
              "<IPython.core.display.HTML object>"
            ],
            "text/html": [
              "\n",
              "  <style>\n",
              "    pre {\n",
              "        white-space: pre-wrap;\n",
              "    }\n",
              "  </style>\n",
              "  "
            ]
          },
          "metadata": {}
        },
        {
          "output_type": "display_data",
          "data": {
            "text/plain": [
              "<IPython.core.display.HTML object>"
            ],
            "text/html": [
              "\n",
              "  <style>\n",
              "    pre {\n",
              "        white-space: pre-wrap;\n",
              "    }\n",
              "  </style>\n",
              "  "
            ]
          },
          "metadata": {}
        },
        {
          "output_type": "display_data",
          "data": {
            "text/plain": [
              "<IPython.core.display.HTML object>"
            ],
            "text/html": [
              "\n",
              "  <style>\n",
              "    pre {\n",
              "        white-space: pre-wrap;\n",
              "    }\n",
              "  </style>\n",
              "  "
            ]
          },
          "metadata": {}
        },
        {
          "output_type": "display_data",
          "data": {
            "text/plain": [
              "<IPython.core.display.HTML object>"
            ],
            "text/html": [
              "\n",
              "  <style>\n",
              "    pre {\n",
              "        white-space: pre-wrap;\n",
              "    }\n",
              "  </style>\n",
              "  "
            ]
          },
          "metadata": {}
        },
        {
          "output_type": "display_data",
          "data": {
            "text/plain": [
              "<IPython.core.display.HTML object>"
            ],
            "text/html": [
              "\n",
              "  <style>\n",
              "    pre {\n",
              "        white-space: pre-wrap;\n",
              "    }\n",
              "  </style>\n",
              "  "
            ]
          },
          "metadata": {}
        }
      ]
    },
    {
      "cell_type": "code",
      "source": [
        "# Cria o modelo generativo\n",
        "model_generative = genai.GenerativeModel(model_generative_str, generation_config=generation_config)\n",
        "\n",
        "# Função para gerar embeddings de texto\n",
        "def generate_embeddings(title, content):\n",
        "  return genai.embed_content(\n",
        "      model=model_embedding_str,\n",
        "      content=content,\n",
        "      title=title,\n",
        "      task_type=\"RETRIEVAL_DOCUMENT\"\n",
        "  )[\"embedding\"]"
      ],
      "metadata": {
        "colab": {
          "base_uri": "https://localhost:8080/",
          "height": 17
        },
        "id": "zceaZVv1Nwty",
        "outputId": "9e2d5cd6-f08a-4d1e-f42e-a5d6460dfa2c"
      },
      "execution_count": 94,
      "outputs": [
        {
          "output_type": "display_data",
          "data": {
            "text/plain": [
              "<IPython.core.display.HTML object>"
            ],
            "text/html": [
              "\n",
              "  <style>\n",
              "    pre {\n",
              "        white-space: pre-wrap;\n",
              "    }\n",
              "  </style>\n",
              "  "
            ]
          },
          "metadata": {}
        },
        {
          "output_type": "display_data",
          "data": {
            "text/plain": [
              "<IPython.core.display.HTML object>"
            ],
            "text/html": [
              "\n",
              "  <style>\n",
              "    pre {\n",
              "        white-space: pre-wrap;\n",
              "    }\n",
              "  </style>\n",
              "  "
            ]
          },
          "metadata": {}
        },
        {
          "output_type": "display_data",
          "data": {
            "text/plain": [
              "<IPython.core.display.HTML object>"
            ],
            "text/html": [
              "\n",
              "  <style>\n",
              "    pre {\n",
              "        white-space: pre-wrap;\n",
              "    }\n",
              "  </style>\n",
              "  "
            ]
          },
          "metadata": {}
        },
        {
          "output_type": "display_data",
          "data": {
            "text/plain": [
              "<IPython.core.display.HTML object>"
            ],
            "text/html": [
              "\n",
              "  <style>\n",
              "    pre {\n",
              "        white-space: pre-wrap;\n",
              "    }\n",
              "  </style>\n",
              "  "
            ]
          },
          "metadata": {}
        },
        {
          "output_type": "display_data",
          "data": {
            "text/plain": [
              "<IPython.core.display.HTML object>"
            ],
            "text/html": [
              "\n",
              "  <style>\n",
              "    pre {\n",
              "        white-space: pre-wrap;\n",
              "    }\n",
              "  </style>\n",
              "  "
            ]
          },
          "metadata": {}
        }
      ]
    },
    {
      "cell_type": "code",
      "source": [
        "# Função para buscar a informação mais similar à pergunta do usuário\n",
        "def search_similarity(query, df, model):\n",
        "  query_embedding = genai.embed_content(\n",
        "      model=model,\n",
        "      content=query,\n",
        "      task_type=\"RETRIEVAL_QUERY\"\n",
        "  )[\"embedding\"]\n",
        "  scalar_product = np.dot(np.stack(df[\"embedding\"]), query_embedding)\n",
        "  index = np.argmax(scalar_product)\n",
        "  return df.iloc[index][\"content\"]\n",
        "\n",
        "# Função para buscar notícias\n",
        "def buscar_noticias(query=None):\n",
        "  url = 'https://newsapi.org/v2/top-headlines?'\n",
        "  if query:\n",
        "    parameters = {'q': query, 'apiKey': NEWS_API_KEY, 'country': 'br', 'language': 'pt'}\n",
        "  else:\n",
        "    parameters = {'country': 'br', 'language': 'pt', 'apiKey': NEWS_API_KEY}\n",
        "  response = requests.get(url, params=parameters)\n",
        "  if response.status_code == 200:\n",
        "    data = response.json()\n",
        "    noticias = data['articles'][:3]\n",
        "    return noticias\n",
        "  else:\n",
        "    return None\n",
        "\n",
        "# Função para buscar previsão do tempo\n",
        "def buscar_previsao_tempo(cidade):\n",
        "  url = 'https://api.openweathermap.org/data/2.5/weather?'\n",
        "  parameters = {'q': cidade, 'appid': OPENWEATHERMAP_API_KEY, 'units': 'metric', 'lang': 'pt'}\n",
        "  response = requests.get(url, params=parameters)\n",
        "  if response.status_code == 200:\n",
        "    data = response.json()\n",
        "    descricao = data['weather'][0]['description']\n",
        "    temperatura = data['main']['temp']\n",
        "    return f\"A previsão do tempo para {cidade} é: {descricao}, com temperatura de {temperatura:.1f}°C.\"\n",
        "  else:\n",
        "    return None\n"
      ],
      "metadata": {
        "colab": {
          "base_uri": "https://localhost:8080/",
          "height": 17
        },
        "id": "oC-URZDZowtF",
        "outputId": "18036ee8-f2e0-4927-d559-3c46e1c81bd9"
      },
      "execution_count": 95,
      "outputs": [
        {
          "output_type": "display_data",
          "data": {
            "text/plain": [
              "<IPython.core.display.HTML object>"
            ],
            "text/html": [
              "\n",
              "  <style>\n",
              "    pre {\n",
              "        white-space: pre-wrap;\n",
              "    }\n",
              "  </style>\n",
              "  "
            ]
          },
          "metadata": {}
        },
        {
          "output_type": "display_data",
          "data": {
            "text/plain": [
              "<IPython.core.display.HTML object>"
            ],
            "text/html": [
              "\n",
              "  <style>\n",
              "    pre {\n",
              "        white-space: pre-wrap;\n",
              "    }\n",
              "  </style>\n",
              "  "
            ]
          },
          "metadata": {}
        },
        {
          "output_type": "display_data",
          "data": {
            "text/plain": [
              "<IPython.core.display.HTML object>"
            ],
            "text/html": [
              "\n",
              "  <style>\n",
              "    pre {\n",
              "        white-space: pre-wrap;\n",
              "    }\n",
              "  </style>\n",
              "  "
            ]
          },
          "metadata": {}
        },
        {
          "output_type": "display_data",
          "data": {
            "text/plain": [
              "<IPython.core.display.HTML object>"
            ],
            "text/html": [
              "\n",
              "  <style>\n",
              "    pre {\n",
              "        white-space: pre-wrap;\n",
              "    }\n",
              "  </style>\n",
              "  "
            ]
          },
          "metadata": {}
        },
        {
          "output_type": "display_data",
          "data": {
            "text/plain": [
              "<IPython.core.display.HTML object>"
            ],
            "text/html": [
              "\n",
              "  <style>\n",
              "    pre {\n",
              "        white-space: pre-wrap;\n",
              "    }\n",
              "  </style>\n",
              "  "
            ]
          },
          "metadata": {}
        }
      ]
    },
    {
      "cell_type": "code",
      "source": [
        "# Crie um DataFrame com informações do condomínio\n",
        "data = {\n",
        "    \"title\": [\"Regras do Condomínio\", \"Horário da área de lazer\", \"Portaria\", \"Contato do Síndico\", \"Abertura de chamados\", \"Acesso a plataforma de e-learning 60+\"],\n",
        "    \"content\": [\n",
        "        \"É proibido fazer barulho entre às 22h e às 8h. Animais de estimação devem ser conduzidos com coleira e deve-se usar sempre o elevador de serviço. O elevador de serviço serve para mudanças dos moradores, entre às 8h e às 18h, com intervalo do almoço entre às 12h e às 14h.\",\n",
        "        \"A área de lazer dos idosos e das crianças funcianam das 8h às 20h.\",\n",
        "        \"O portao tem porteiro 24 horas por dia, basta apenas se identificar.\",\n",
        "        \"O contato do síndico, Sr. Fulano de Lima, é (81) 4321-4321.\",\n",
        "        \"Para abertura de chamados, é necessario enviar uma mensagem pro número official do predio, através do whatsapp, que é o (81) 1234-1234\",\n",
        "        \"Acesse a plataforma de e-learning aqui: https://www.saopaulo.sp.gov.br/spnoticias/ultimas-noticias/usp-oferece-mais-de-4-mil-vagas-em-cursos-gratuitos-para-publico-com-mais-de-60-anos/#:~:text=v%C3%ADtimas%20do%20RS-,USP%20oferece%20mais%20de%204%20mil%20vagas%20em%20cursos%20gratuitos,com%20mais%20de%2060%20anos&text=O%20programa%20USP%2060+%20completa,.usp.br/usp60. Descubra cursos gratuitos para 60+ aqui: https://geridades.com.br/2023/01/18/confira-5-cursos-gratuitos-para-idosos/. Curso gratuito de informática para 60+ aqui: https://www.uniceub.br/noticias/noticias-inclusao-digital-ceub-oferece-curso-de-informatica-gratuito-para-publico-idoso. Nesta plataforma, você encontra cursos gratuitos sobre diversos temas, como informática, idiomas, saúde e bem-estar. Aproveite esta oportunidade para aprender coisas novas e se conectar com outros moradores!\",\n",
        "    ]\n",
        "}\n",
        "\n",
        "df = pd.DataFrame(data)"
      ],
      "metadata": {
        "colab": {
          "base_uri": "https://localhost:8080/",
          "height": 17
        },
        "id": "ecOOQXJ-Pim5",
        "outputId": "022becde-adc5-4945-a49a-c88da51cfa21"
      },
      "execution_count": 96,
      "outputs": [
        {
          "output_type": "display_data",
          "data": {
            "text/plain": [
              "<IPython.core.display.HTML object>"
            ],
            "text/html": [
              "\n",
              "  <style>\n",
              "    pre {\n",
              "        white-space: pre-wrap;\n",
              "    }\n",
              "  </style>\n",
              "  "
            ]
          },
          "metadata": {}
        },
        {
          "output_type": "display_data",
          "data": {
            "text/plain": [
              "<IPython.core.display.HTML object>"
            ],
            "text/html": [
              "\n",
              "  <style>\n",
              "    pre {\n",
              "        white-space: pre-wrap;\n",
              "    }\n",
              "  </style>\n",
              "  "
            ]
          },
          "metadata": {}
        },
        {
          "output_type": "display_data",
          "data": {
            "text/plain": [
              "<IPython.core.display.HTML object>"
            ],
            "text/html": [
              "\n",
              "  <style>\n",
              "    pre {\n",
              "        white-space: pre-wrap;\n",
              "    }\n",
              "  </style>\n",
              "  "
            ]
          },
          "metadata": {}
        },
        {
          "output_type": "display_data",
          "data": {
            "text/plain": [
              "<IPython.core.display.HTML object>"
            ],
            "text/html": [
              "\n",
              "  <style>\n",
              "    pre {\n",
              "        white-space: pre-wrap;\n",
              "    }\n",
              "  </style>\n",
              "  "
            ]
          },
          "metadata": {}
        },
        {
          "output_type": "display_data",
          "data": {
            "text/plain": [
              "<IPython.core.display.HTML object>"
            ],
            "text/html": [
              "\n",
              "  <style>\n",
              "    pre {\n",
              "        white-space: pre-wrap;\n",
              "    }\n",
              "  </style>\n",
              "  "
            ]
          },
          "metadata": {}
        }
      ]
    },
    {
      "cell_type": "code",
      "source": [
        "# Função para gerar embeddings\n",
        "def generate_embeddings(title, content):\n",
        "  return genai.embed_content(\n",
        "      model=model_embedding_str,\n",
        "      content=content,\n",
        "      title=title,\n",
        "      task_type=\"RETRIEVAL_DOCUMENT\"\n",
        "  )[\"embedding\"]"
      ],
      "metadata": {
        "colab": {
          "base_uri": "https://localhost:8080/",
          "height": 17
        },
        "id": "fXc-_6SeN6If",
        "outputId": "44d24415-66fd-4055-c0c8-1d6fbaca196b"
      },
      "execution_count": 97,
      "outputs": [
        {
          "output_type": "display_data",
          "data": {
            "text/plain": [
              "<IPython.core.display.HTML object>"
            ],
            "text/html": [
              "\n",
              "  <style>\n",
              "    pre {\n",
              "        white-space: pre-wrap;\n",
              "    }\n",
              "  </style>\n",
              "  "
            ]
          },
          "metadata": {}
        },
        {
          "output_type": "display_data",
          "data": {
            "text/plain": [
              "<IPython.core.display.HTML object>"
            ],
            "text/html": [
              "\n",
              "  <style>\n",
              "    pre {\n",
              "        white-space: pre-wrap;\n",
              "    }\n",
              "  </style>\n",
              "  "
            ]
          },
          "metadata": {}
        },
        {
          "output_type": "display_data",
          "data": {
            "text/plain": [
              "<IPython.core.display.HTML object>"
            ],
            "text/html": [
              "\n",
              "  <style>\n",
              "    pre {\n",
              "        white-space: pre-wrap;\n",
              "    }\n",
              "  </style>\n",
              "  "
            ]
          },
          "metadata": {}
        },
        {
          "output_type": "display_data",
          "data": {
            "text/plain": [
              "<IPython.core.display.HTML object>"
            ],
            "text/html": [
              "\n",
              "  <style>\n",
              "    pre {\n",
              "        white-space: pre-wrap;\n",
              "    }\n",
              "  </style>\n",
              "  "
            ]
          },
          "metadata": {}
        },
        {
          "output_type": "display_data",
          "data": {
            "text/plain": [
              "<IPython.core.display.HTML object>"
            ],
            "text/html": [
              "\n",
              "  <style>\n",
              "    pre {\n",
              "        white-space: pre-wrap;\n",
              "    }\n",
              "  </style>\n",
              "  "
            ]
          },
          "metadata": {}
        }
      ]
    },
    {
      "cell_type": "code",
      "source": [
        "# Gera embeddings para o DataFrame do condomínio\n",
        "df[\"embedding\"] = df.apply(lambda row: generate_embeddings(row[\"title\"], row[\"content\"]), axis=1)"
      ],
      "metadata": {
        "colab": {
          "base_uri": "https://localhost:8080/",
          "height": 17
        },
        "id": "uBbU1YffN-WT",
        "outputId": "1945afa7-7b73-4db4-9bec-365ed31de64d"
      },
      "execution_count": 98,
      "outputs": [
        {
          "output_type": "display_data",
          "data": {
            "text/plain": [
              "<IPython.core.display.HTML object>"
            ],
            "text/html": [
              "\n",
              "  <style>\n",
              "    pre {\n",
              "        white-space: pre-wrap;\n",
              "    }\n",
              "  </style>\n",
              "  "
            ]
          },
          "metadata": {}
        },
        {
          "output_type": "display_data",
          "data": {
            "text/plain": [
              "<IPython.core.display.HTML object>"
            ],
            "text/html": [
              "\n",
              "  <style>\n",
              "    pre {\n",
              "        white-space: pre-wrap;\n",
              "    }\n",
              "  </style>\n",
              "  "
            ]
          },
          "metadata": {}
        },
        {
          "output_type": "display_data",
          "data": {
            "text/plain": [
              "<IPython.core.display.HTML object>"
            ],
            "text/html": [
              "\n",
              "  <style>\n",
              "    pre {\n",
              "        white-space: pre-wrap;\n",
              "    }\n",
              "  </style>\n",
              "  "
            ]
          },
          "metadata": {}
        },
        {
          "output_type": "display_data",
          "data": {
            "text/plain": [
              "<IPython.core.display.HTML object>"
            ],
            "text/html": [
              "\n",
              "  <style>\n",
              "    pre {\n",
              "        white-space: pre-wrap;\n",
              "    }\n",
              "  </style>\n",
              "  "
            ]
          },
          "metadata": {}
        },
        {
          "output_type": "display_data",
          "data": {
            "text/plain": [
              "<IPython.core.display.HTML object>"
            ],
            "text/html": [
              "\n",
              "  <style>\n",
              "    pre {\n",
              "        white-space: pre-wrap;\n",
              "    }\n",
              "  </style>\n",
              "  "
            ]
          },
          "metadata": {}
        }
      ]
    },
    {
      "cell_type": "code",
      "source": [
        "# Função para buscar a informação mais similar à pergunta do usuário\n",
        "def search_similarity(query, df, model):\n",
        "  query_embedding = genai.embed_content(\n",
        "      model=model,\n",
        "      content=query,\n",
        "      task_type=\"RETRIEVAL_QUERY\"\n",
        "  )[\"embedding\"]\n",
        "  scalar_product = np.dot(np.stack(df[\"embedding\"]), query_embedding)\n",
        "  index = np.argmax(scalar_product)\n",
        "  return df.iloc[index][\"content\"]"
      ],
      "metadata": {
        "colab": {
          "base_uri": "https://localhost:8080/",
          "height": 17
        },
        "id": "rUAejXQOUh9Z",
        "outputId": "1799fa9e-7bc8-448e-a43e-5772db8f9b50"
      },
      "execution_count": 99,
      "outputs": [
        {
          "output_type": "display_data",
          "data": {
            "text/plain": [
              "<IPython.core.display.HTML object>"
            ],
            "text/html": [
              "\n",
              "  <style>\n",
              "    pre {\n",
              "        white-space: pre-wrap;\n",
              "    }\n",
              "  </style>\n",
              "  "
            ]
          },
          "metadata": {}
        },
        {
          "output_type": "display_data",
          "data": {
            "text/plain": [
              "<IPython.core.display.HTML object>"
            ],
            "text/html": [
              "\n",
              "  <style>\n",
              "    pre {\n",
              "        white-space: pre-wrap;\n",
              "    }\n",
              "  </style>\n",
              "  "
            ]
          },
          "metadata": {}
        },
        {
          "output_type": "display_data",
          "data": {
            "text/plain": [
              "<IPython.core.display.HTML object>"
            ],
            "text/html": [
              "\n",
              "  <style>\n",
              "    pre {\n",
              "        white-space: pre-wrap;\n",
              "    }\n",
              "  </style>\n",
              "  "
            ]
          },
          "metadata": {}
        },
        {
          "output_type": "display_data",
          "data": {
            "text/plain": [
              "<IPython.core.display.HTML object>"
            ],
            "text/html": [
              "\n",
              "  <style>\n",
              "    pre {\n",
              "        white-space: pre-wrap;\n",
              "    }\n",
              "  </style>\n",
              "  "
            ]
          },
          "metadata": {}
        },
        {
          "output_type": "display_data",
          "data": {
            "text/plain": [
              "<IPython.core.display.HTML object>"
            ],
            "text/html": [
              "\n",
              "  <style>\n",
              "    pre {\n",
              "        white-space: pre-wrap;\n",
              "    }\n",
              "  </style>\n",
              "  "
            ]
          },
          "metadata": {}
        }
      ]
    },
    {
      "cell_type": "code",
      "source": [
        "# ... (código anterior, incluindo imports, funções e criação do DataFrame)\n",
        "\n",
        "# Inicia o chat\n",
        "chat = model_generative.start_chat(history=[])\n",
        "print(\"Olá! Sou o AntonioAssist, o seu chatbot do Condomínio Antônio Machado. 🏢 \\n Como posso te ajudar? 💡\\n Se quiser saber sobre notícias, digite 1 \\n Se quiser saber sobre previsão do tempo, digite 2 \\n🥳Você pode digitar 'FIM', em qualquer momento, para encerrar o atendimento🥳\")\n",
        "\n",
        "query = input('\\nMorador: ')\n",
        "\n",
        "while True:\n",
        "  # -- VERIFICAÇÃO DE NÚMEROS -- #\n",
        "  if query.strip().isdigit():\n",
        "    opcao = int(query.strip())\n",
        "\n",
        "    if opcao == 1:  # Notícias\n",
        "      tópico = None\n",
        "      tópico_input = input(\"Chatbot: Sobre qual tópico você gostaria de ver notícias?🗞️ \")\n",
        "      if tópico_input:\n",
        "        tópico = tópico_input.strip()\n",
        "      noticias = buscar_noticias(tópico)\n",
        "      if noticias:\n",
        "        print(\"Chatbot: Aqui estão algumas notícias recentes:\\n\")\n",
        "        for noticia in noticias:\n",
        "          print(f\"- {noticia['title']}\\n{noticia['url']}\\n\")\n",
        "      else:\n",
        "        print(\"Chatbot: Desculpe, não consegui encontrar notícias no momento. Tente novamente mais tarde.\")\n",
        "      query = input('\\nMorador: Que tal me fazer alguma outra pergunta? \\nSe vc não tiver mais perguntas você pode digitar \"FIM\" para encerrar o atendimento ') # Leitura da entrada AQUI\n",
        "\n",
        "    elif opcao == 2:  # Previsão do Tempo\n",
        "      cidade = input(\"Chatbot: Para qual cidade você gostaria de saber a previsão do tempo?🌡️ \")\n",
        "      previsao = buscar_previsao_tempo(cidade)\n",
        "      if previsao:\n",
        "        print(\"Chatbot:\", previsao)\n",
        "      else:\n",
        "        print(\"Chatbot: Desculpe, não consegui obter a previsão do tempo para essa cidade.\")\n",
        "      query = input('\\nMorador: Que tal me fazer alguma outra pergunta? \\nSe vc não tiver mais perguntas você pode digitar \"FIM\" para encerrar o atendimento ') # Leitura da entrada AQUI\n",
        "\n",
        "    else:\n",
        "      print(\"Chatbot: Opção inválida. Por favor, digite 1 para notícias, 2 para previsão do tempo ou 'FIM' para encerrar.\")\n",
        "      query = input('\\nMorador: Que tal me fazer alguma outra pergunta? \\nSe vc não tiver mais perguntas você pode digitar \"FIM\" para encerrar o atendimento ') # Leitura da entrada AQUI\n",
        "\n",
        "  # -- PERGUNTAS SOBRE O CONDOMÍNIO E OUTROS TEMAS -- #\n",
        "  else:\n",
        "    context = search_similarity(query, df, model_embedding_str)\n",
        "\n",
        "    prompt = f\"\"\"Você é um chatbot que auxilia moradores do condomínio Antonio Machado, localizado no Recife - Pernambuco, fornecendo informações úteis sobre o condomínio, aprendizado e diversos temas do dia a dia, incluindo receitas, notícias, hobbies, viagens e etc..\n",
        "    Responda à pergunta do morador de forma natural, clara e concisa e engajadora usando o contexto fornecido.\n",
        "    Você deve auxiliar o morador com respostas relacionadas a aprendizado e sobre e-learning para qualquer idade, especialmente para os idosos.\n",
        "    Se não souber a resposta, diga que não tem essa informação e sugira que o morador entre em contato com o síndico, dê o telefone de contato do mesmo e seu nome.\n",
        "    Pergunta: {query}\n",
        "    Contexto: {context}\"\"\"\n",
        "\n",
        "    response = chat.send_message(prompt)\n",
        "    print(\"Chatbot:\", response.text, '\\n')\n",
        "    query = input('\\nMorador: Que tal me fazer alguma outra pergunta? \\nSe vc não tiver mais perguntas você pode digitar \"FIM\" para encerrar o atendimento ') # Leitura da entrada AQUI\n",
        "\n",
        "  # -- VERIFICAÇÃO DE FIM -- #\n",
        "  if query.upper() == \"FIM\": # Verifica se o usuário quer encerrar\n",
        "    break # Sai do loop\n",
        "\n",
        "print(\"Chatbot: Espero ter ajudado! Tenha um ótimo dia.\")"
      ],
      "metadata": {
        "colab": {
          "base_uri": "https://localhost:8080/",
          "height": 868
        },
        "id": "ATerIQsoUpO-",
        "outputId": "1669fa5d-807b-4fed-9977-024c19d0e762"
      },
      "execution_count": 126,
      "outputs": [
        {
          "output_type": "display_data",
          "data": {
            "text/plain": [
              "<IPython.core.display.HTML object>"
            ],
            "text/html": [
              "\n",
              "  <style>\n",
              "    pre {\n",
              "        white-space: pre-wrap;\n",
              "    }\n",
              "  </style>\n",
              "  "
            ]
          },
          "metadata": {}
        },
        {
          "output_type": "display_data",
          "data": {
            "text/plain": [
              "<IPython.core.display.HTML object>"
            ],
            "text/html": [
              "\n",
              "  <style>\n",
              "    pre {\n",
              "        white-space: pre-wrap;\n",
              "    }\n",
              "  </style>\n",
              "  "
            ]
          },
          "metadata": {}
        },
        {
          "output_type": "display_data",
          "data": {
            "text/plain": [
              "<IPython.core.display.HTML object>"
            ],
            "text/html": [
              "\n",
              "  <style>\n",
              "    pre {\n",
              "        white-space: pre-wrap;\n",
              "    }\n",
              "  </style>\n",
              "  "
            ]
          },
          "metadata": {}
        },
        {
          "output_type": "display_data",
          "data": {
            "text/plain": [
              "<IPython.core.display.HTML object>"
            ],
            "text/html": [
              "\n",
              "  <style>\n",
              "    pre {\n",
              "        white-space: pre-wrap;\n",
              "    }\n",
              "  </style>\n",
              "  "
            ]
          },
          "metadata": {}
        },
        {
          "output_type": "display_data",
          "data": {
            "text/plain": [
              "<IPython.core.display.HTML object>"
            ],
            "text/html": [
              "\n",
              "  <style>\n",
              "    pre {\n",
              "        white-space: pre-wrap;\n",
              "    }\n",
              "  </style>\n",
              "  "
            ]
          },
          "metadata": {}
        },
        {
          "output_type": "stream",
          "name": "stdout",
          "text": [
            "Olá! Sou o AntonioAssist, o seu chatbot do Condomínio Antônio Machado. 🏢 \n",
            " Como posso te ajudar? 💡\n",
            " Se quiser saber sobre notícias, digite 1 \n",
            " Se quiser saber sobre previsão do tempo, digite 2 \n",
            "🥳Você pode digitar 'FIM', em qualquer momento, para encerrar o atendimento🥳\n",
            "\n",
            "Morador: 1\n",
            "Chatbot: Sobre qual tópico você gostaria de ver notícias?🗞️ guerra!\n",
            "Chatbot: Desculpe, não consegui encontrar notícias no momento. Tente novamente mais tarde.\n",
            "\n",
            "Morador: Que tal me fazer alguma outra pergunta? \n",
            "Se vc não tiver mais perguntas você pode digitar \"FIM\" para encerrar o atendimento 2\n",
            "Chatbot: Para qual cidade você gostaria de saber a previsão do tempo?🌡️ Frankfurt\n",
            "Chatbot: A previsão do tempo para Frankfurt é: céu limpo, com temperatura de 19.6°C.\n",
            "\n",
            "Morador: Que tal me fazer alguma outra pergunta? \n",
            "Se vc não tiver mais perguntas você pode digitar \"FIM\" para encerrar o atendimento Estou cansando, mas preciso estudar.\n",
            "Chatbot: Olá, entendo que você esteja se sentindo cansado, mas saiba que estudar é essencial para o seu crescimento pessoal e profissional. Aqui estão algumas dicas para ajudá-lo a estudar com mais eficiência e menos cansaço:\n",
            "\n",
            "* **Divida as tarefas:** Divida as tarefas grandes em partes menores e mais gerenciáveis. Isso tornará o estudo menos assustador e mais fácil de concluir.\n",
            "* **Faça pausas regulares:** Não tente estudar por horas a fio. Faça pausas regulares para descansar sua mente e corpo.\n",
            "* **Encontre um local confortável:** Estude em um local onde você se sinta confortável e sem distrações.\n",
            "* **Use recursos de aprendizagem:** Existem muitos recursos de aprendizagem disponíveis online e offline que podem tornar o estudo mais fácil e interessante.\n",
            "* **Peça ajuda:** Se você estiver tendo dificuldades, não hesite em pedir ajuda a um amigo, professor ou tutor.\n",
            "\n",
            "Se você precisar de mais assistência com e-learning para idosos, entre em contato com o síndico, Sr. João, pelo telefone (81) 1234-1234. \n",
            "\n",
            "\n",
            "Morador: Que tal me fazer alguma outra pergunta? \n",
            "Se vc não tiver mais perguntas você pode digitar \"FIM\" para encerrar o atendimento Regras do predio.\n",
            "Chatbot: Olá, infelizmente não tenho acesso às regras do condomínio. Recomendo que você entre em contato com o síndico, Sr. João, pelo telefone (81) 1234-1234, para obter essa informação. \n",
            "\n",
            "\n",
            "Morador: Que tal me fazer alguma outra pergunta? \n",
            "Se vc não tiver mais perguntas você pode digitar \"FIM\" para encerrar o atendimento regras\n",
            "Chatbot: **Regras do Condomínio Antonio Machado:**\n",
            "\n",
            "* É proibido fazer barulho entre às 22h e às 8h.\n",
            "* Animais de estimação devem ser conduzidos com coleira.\n",
            "* Deve-se usar sempre o elevador de serviço.\n",
            "* O elevador de serviço serve para mudanças dos moradores, entre às 8h e às 18h, com intervalo do almoço entre às 12h e às 14h.\n",
            "\n",
            "Essas são apenas algumas das regras do condomínio. Para obter uma lista completa das regras, entre em contato com o síndico, Sr. João, pelo telefone (81) 1234-1234. \n",
            "\n",
            "\n",
            "Morador: Que tal me fazer alguma outra pergunta? \n",
            "Se vc não tiver mais perguntas você pode digitar \"FIM\" para encerrar o atendimento fim\n",
            "Chatbot: Espero ter ajudado! Tenha um ótimo dia.\n"
          ]
        }
      ]
    }
  ]
}